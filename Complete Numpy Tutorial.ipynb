{
 "cells": [
  {
   "cell_type": "markdown",
   "id": "ce1da036",
   "metadata": {},
   "source": [
    "# Importing Numpy Library \n",
    "\n",
    "NumPy is a fundamental package for numerical computations in Python, especially for working with arrays and matrices."
   ]
  },
  {
   "cell_type": "code",
   "execution_count": 1,
   "id": "8f68cc0f",
   "metadata": {},
   "outputs": [],
   "source": [
    "import numpy as np"
   ]
  },
  {
   "cell_type": "markdown",
   "id": "e3076ff1",
   "metadata": {},
   "source": [
    "# Creating 1D Array\n",
    " This creates a one-dimensional array from a Python list."
   ]
  },
  {
   "cell_type": "code",
   "execution_count": 2,
   "id": "37eb22e3",
   "metadata": {},
   "outputs": [
    {
     "name": "stdout",
     "output_type": "stream",
     "text": [
      "[1 2 3 4]\n"
     ]
    }
   ],
   "source": [
    "arr_1d = np.array([1,2,3,4])\n",
    "print(arr_1d)"
   ]
  },
  {
   "cell_type": "code",
   "execution_count": 3,
   "id": "a5242c7b",
   "metadata": {},
   "outputs": [
    {
     "data": {
      "text/plain": [
       "1"
      ]
     },
     "execution_count": 3,
     "metadata": {},
     "output_type": "execute_result"
    }
   ],
   "source": [
    "# for checking dimensions\n",
    "arr_1d.ndim"
   ]
  },
  {
   "cell_type": "code",
   "execution_count": 4,
   "id": "f2f0a2b1",
   "metadata": {},
   "outputs": [
    {
     "data": {
      "text/plain": [
       "numpy.ndarray"
      ]
     },
     "execution_count": 4,
     "metadata": {},
     "output_type": "execute_result"
    }
   ],
   "source": [
    "#checking the type\n",
    "type(arr_1d)"
   ]
  },
  {
   "cell_type": "code",
   "execution_count": 5,
   "id": "3f903f71",
   "metadata": {},
   "outputs": [
    {
     "data": {
      "text/plain": [
       "dtype('int32')"
      ]
     },
     "execution_count": 5,
     "metadata": {},
     "output_type": "execute_result"
    }
   ],
   "source": [
    "arr_1d.dtype"
   ]
  },
  {
   "cell_type": "markdown",
   "id": "fbb7db5b",
   "metadata": {},
   "source": [
    "# Creating 2D Array\n",
    " A 2D array can be created using nested lists like np.array([[1, 2], [3, 4]]), which represents a matrix."
   ]
  },
  {
   "cell_type": "code",
   "execution_count": 6,
   "id": "2027c59c",
   "metadata": {},
   "outputs": [
    {
     "name": "stdout",
     "output_type": "stream",
     "text": [
      "[[1 2 3 4]\n",
      " [5 6 7 8]]\n"
     ]
    }
   ],
   "source": [
    "arr_2d = np.array([[1,2,3,4], [5,6,7,8]])\n",
    "print(arr_2d)"
   ]
  },
  {
   "cell_type": "code",
   "execution_count": 7,
   "id": "401c010f",
   "metadata": {},
   "outputs": [
    {
     "data": {
      "text/plain": [
       "8"
      ]
     },
     "execution_count": 7,
     "metadata": {},
     "output_type": "execute_result"
    }
   ],
   "source": [
    "arr_2d.size"
   ]
  },
  {
   "cell_type": "code",
   "execution_count": 8,
   "id": "ba43720a",
   "metadata": {},
   "outputs": [
    {
     "data": {
      "text/plain": [
       "dtype('int32')"
      ]
     },
     "execution_count": 8,
     "metadata": {},
     "output_type": "execute_result"
    }
   ],
   "source": [
    "arr_2d.dtype"
   ]
  },
  {
   "cell_type": "code",
   "execution_count": 9,
   "id": "6d66127f",
   "metadata": {},
   "outputs": [
    {
     "data": {
      "text/plain": [
       "2"
      ]
     },
     "execution_count": 9,
     "metadata": {},
     "output_type": "execute_result"
    }
   ],
   "source": [
    "arr_2d.ndim"
   ]
  },
  {
   "cell_type": "code",
   "execution_count": 10,
   "id": "1d18a786",
   "metadata": {},
   "outputs": [
    {
     "data": {
      "text/plain": [
       "(2, 4)"
      ]
     },
     "execution_count": 10,
     "metadata": {},
     "output_type": "execute_result"
    }
   ],
   "source": [
    "arr_2d.shape"
   ]
  },
  {
   "cell_type": "markdown",
   "id": "a2bfaf94",
   "metadata": {},
   "source": [
    "# 1's Matrix \n",
    " You can create a matrix filled with ones using np.ones((rows, cols)), where rows and cols specify the dimensions of the matrix."
   ]
  },
  {
   "cell_type": "code",
   "execution_count": 11,
   "id": "a0efc52a",
   "metadata": {},
   "outputs": [
    {
     "name": "stdout",
     "output_type": "stream",
     "text": [
      "[[1 1 1]\n",
      " [2 2 2]\n",
      " [3 3 3]]\n"
     ]
    }
   ],
   "source": [
    "mx_1s = np.array([[1,1,1],[2,2,2],[3,3,3]])\n",
    "print(mx_1s)"
   ]
  },
  {
   "cell_type": "code",
   "execution_count": 12,
   "id": "8d4a47ff",
   "metadata": {},
   "outputs": [
    {
     "data": {
      "text/plain": [
       "dtype('int32')"
      ]
     },
     "execution_count": 12,
     "metadata": {},
     "output_type": "execute_result"
    }
   ],
   "source": [
    "mx_1s.dtype"
   ]
  },
  {
   "cell_type": "code",
   "execution_count": 13,
   "id": "79c0af2c",
   "metadata": {
    "scrolled": true
   },
   "outputs": [
    {
     "data": {
      "text/plain": [
       "(3, 3)"
      ]
     },
     "execution_count": 13,
     "metadata": {},
     "output_type": "execute_result"
    }
   ],
   "source": [
    "mx_1s.shape"
   ]
  },
  {
   "cell_type": "code",
   "execution_count": 14,
   "id": "a60903fd",
   "metadata": {},
   "outputs": [
    {
     "data": {
      "text/plain": [
       "array([[1, 1, 1, 1],\n",
       "       [1, 1, 1, 1],\n",
       "       [1, 1, 1, 1]])"
      ]
     },
     "execution_count": 14,
     "metadata": {},
     "output_type": "execute_result"
    }
   ],
   "source": [
    "mx_1s = np.ones((3,4),dtype=int)\n",
    "mx_1s"
   ]
  },
  {
   "cell_type": "code",
   "execution_count": 15,
   "id": "09ed6922",
   "metadata": {},
   "outputs": [
    {
     "data": {
      "text/plain": [
       "dtype('int32')"
      ]
     },
     "execution_count": 15,
     "metadata": {},
     "output_type": "execute_result"
    }
   ],
   "source": [
    "mx_1s.dtype"
   ]
  },
  {
   "cell_type": "code",
   "execution_count": 16,
   "id": "74a78c37",
   "metadata": {},
   "outputs": [
    {
     "data": {
      "text/plain": [
       "12"
      ]
     },
     "execution_count": 16,
     "metadata": {},
     "output_type": "execute_result"
    }
   ],
   "source": [
    "mx_1s.size"
   ]
  },
  {
   "cell_type": "markdown",
   "id": "59680f58",
   "metadata": {},
   "source": [
    "# Creating Zero's Matrix\n",
    "Similarly, a matrix filled with zeros can be created with np.zeros((rows, cols))."
   ]
  },
  {
   "cell_type": "code",
   "execution_count": 17,
   "id": "a8043077",
   "metadata": {},
   "outputs": [
    {
     "data": {
      "text/plain": [
       "array([[0., 0., 0., 0., 0., 0.],\n",
       "       [0., 0., 0., 0., 0., 0.],\n",
       "       [0., 0., 0., 0., 0., 0.],\n",
       "       [0., 0., 0., 0., 0., 0.]])"
      ]
     },
     "execution_count": 17,
     "metadata": {},
     "output_type": "execute_result"
    }
   ],
   "source": [
    "mx_0s = np.zeros((4,6))\n",
    "mx_0s"
   ]
  },
  {
   "cell_type": "code",
   "execution_count": null,
   "id": "e9555184",
   "metadata": {},
   "outputs": [],
   "source": []
  },
  {
   "cell_type": "code",
   "execution_count": 18,
   "id": "458c89bd",
   "metadata": {},
   "outputs": [
    {
     "data": {
      "text/plain": [
       "array([[0, 0, 0, 0, 0, 0],\n",
       "       [0, 0, 0, 0, 0, 0],\n",
       "       [0, 0, 0, 0, 0, 0],\n",
       "       [0, 0, 0, 0, 0, 0]])"
      ]
     },
     "execution_count": 18,
     "metadata": {},
     "output_type": "execute_result"
    }
   ],
   "source": [
    "mx_0s = np.zeros((4,6),dtype = int)\n",
    "mx_0s"
   ]
  },
  {
   "cell_type": "code",
   "execution_count": 19,
   "id": "6d0f402c",
   "metadata": {},
   "outputs": [
    {
     "data": {
      "text/plain": [
       "array([[False, False, False, False, False, False],\n",
       "       [False, False, False, False, False, False],\n",
       "       [False, False, False, False, False, False],\n",
       "       [False, False, False, False, False, False]])"
      ]
     },
     "execution_count": 19,
     "metadata": {},
     "output_type": "execute_result"
    }
   ],
   "source": [
    "mx_0s = np.zeros((4,6),dtype = bool)\n",
    "mx_0s"
   ]
  },
  {
   "cell_type": "code",
   "execution_count": 20,
   "id": "8abbe9df",
   "metadata": {},
   "outputs": [
    {
     "data": {
      "text/plain": [
       "array([['', '', '', '', '', ''],\n",
       "       ['', '', '', '', '', ''],\n",
       "       ['', '', '', '', '', ''],\n",
       "       ['', '', '', '', '', '']], dtype='<U1')"
      ]
     },
     "execution_count": 20,
     "metadata": {},
     "output_type": "execute_result"
    }
   ],
   "source": [
    "mx_0s = np.zeros((4,6),dtype = str)\n",
    "mx_0s"
   ]
  },
  {
   "cell_type": "markdown",
   "id": "bf7c9053",
   "metadata": {},
   "source": [
    "# Creating Empty Matrix\n",
    "An empty matrix (with uninitialized values) can be created using np.empty((rows, cols))"
   ]
  },
  {
   "cell_type": "code",
   "execution_count": 21,
   "id": "6e7a568a",
   "metadata": {},
   "outputs": [
    {
     "name": "stdout",
     "output_type": "stream",
     "text": [
      "[[0.000e+000 0.000e+000 0.000e+000]\n",
      " [0.000e+000 0.000e+000 7.115e-321]\n",
      " [0.000e+000 0.000e+000 0.000e+000]]\n"
     ]
    }
   ],
   "source": [
    "em_mx = np.empty((3,3))\n",
    "print(em_mx)"
   ]
  },
  {
   "cell_type": "markdown",
   "id": "3eb96251",
   "metadata": {},
   "source": [
    "# Numpy Functions\n",
    "NumPy provides a wide range of functions for array manipulation, mathematical operations, and linear algebra."
   ]
  },
  {
   "cell_type": "markdown",
   "id": "6686a66b",
   "metadata": {},
   "source": [
    "# 1- arange()\n",
    "np.arange(start, stop, step) generates a sequence of numbers from start to stop (exclusive) with a specified step size.\n",
    "\n"
   ]
  },
  {
   "cell_type": "code",
   "execution_count": 22,
   "id": "b511c7b0",
   "metadata": {},
   "outputs": [
    {
     "data": {
      "text/plain": [
       "array([ 1,  2,  3,  4,  5,  6,  7,  8,  9, 10, 11, 12])"
      ]
     },
     "execution_count": 22,
     "metadata": {},
     "output_type": "execute_result"
    }
   ],
   "source": [
    "arr_1d = np.arange(1,13)\n",
    "arr_1d"
   ]
  },
  {
   "cell_type": "code",
   "execution_count": 23,
   "id": "e30b8b10",
   "metadata": {},
   "outputs": [
    {
     "name": "stdout",
     "output_type": "stream",
     "text": [
      "[ 1  3  5  7  9 11]\n",
      "[ 1  4  7 10]\n"
     ]
    }
   ],
   "source": [
    "# printing even/odd numbers\n",
    "arr_1d =np.arange(1,13,2)\n",
    "print(arr_1d)\n",
    "arr_1odd=np.arange(1,13,3)\n",
    "print(arr_1odd)"
   ]
  },
  {
   "cell_type": "markdown",
   "id": "e06d5e46",
   "metadata": {},
   "source": [
    "# 2-Linspace \n",
    "np.linspace(start, stop, num) creates an array of num evenly spaced values between start and stop."
   ]
  },
  {
   "cell_type": "code",
   "execution_count": 24,
   "id": "32c976e0",
   "metadata": {},
   "outputs": [
    {
     "data": {
      "text/plain": [
       "array([1.        , 1.11111111, 1.22222222, 1.33333333, 1.44444444,\n",
       "       1.55555556, 1.66666667, 1.77777778, 1.88888889, 2.        ])"
      ]
     },
     "execution_count": 24,
     "metadata": {},
     "output_type": "execute_result"
    }
   ],
   "source": [
    "a=np.linspace(1,2,10)\n",
    "a\n"
   ]
  },
  {
   "cell_type": "markdown",
   "id": "00e2520b",
   "metadata": {},
   "source": [
    "# 3-reshape()\n",
    "np.reshape(array, new_shape) reshapes an array into a new shape specified by new_shape."
   ]
  },
  {
   "cell_type": "code",
   "execution_count": 25,
   "id": "274ec5c1",
   "metadata": {},
   "outputs": [
    {
     "name": "stdout",
     "output_type": "stream",
     "text": [
      "[ 1  2  3  4  5  6  7  8  9 10 11 12]\n"
     ]
    }
   ],
   "source": [
    "arr_1d = np.arange(1,13)\n",
    "print(arr_1d)"
   ]
  },
  {
   "cell_type": "code",
   "execution_count": 26,
   "id": "ee1f77b2",
   "metadata": {},
   "outputs": [
    {
     "name": "stdout",
     "output_type": "stream",
     "text": [
      "[[ 1  2  3  4  5  6]\n",
      " [ 7  8  9 10 11 12]]\n"
     ]
    }
   ],
   "source": [
    "arr_2d = arr_1d.reshape(2,6)\n",
    "print(arr_2d)"
   ]
  },
  {
   "cell_type": "markdown",
   "id": "48dfba83",
   "metadata": {},
   "source": [
    "# Change 1d into 2d\n",
    "You can change the shape of a 1D array to a 2D array using np.reshape(array, (rows, cols)) or array.reshape((rows, cols))."
   ]
  },
  {
   "cell_type": "code",
   "execution_count": 27,
   "id": "fb30bc7c",
   "metadata": {},
   "outputs": [
    {
     "name": "stdout",
     "output_type": "stream",
     "text": [
      "[[ 1  2  3  4  5  6]\n",
      " [ 7  8  9 10 11 12]]\n"
     ]
    }
   ],
   "source": [
    "arr = np.arange(1,13).reshape(2,6)\n",
    "print(arr)"
   ]
  },
  {
   "cell_type": "markdown",
   "id": "9f1323c1",
   "metadata": {},
   "source": [
    "# These are methods for manipulating array shapes (ravel and flatten) or transposing matrices (transpose or T)."
   ]
  },
  {
   "cell_type": "markdown",
   "id": "2f4ed277",
   "metadata": {},
   "source": [
    "# 4-ravel()"
   ]
  },
  {
   "cell_type": "code",
   "execution_count": 28,
   "id": "60c1feb8",
   "metadata": {},
   "outputs": [
    {
     "data": {
      "text/plain": [
       "array([ 1,  2,  3,  4,  5,  6,  7,  8,  9, 10, 11, 12])"
      ]
     },
     "execution_count": 28,
     "metadata": {},
     "output_type": "execute_result"
    }
   ],
   "source": [
    "arr.ravel()"
   ]
  },
  {
   "cell_type": "markdown",
   "id": "489f559b",
   "metadata": {},
   "source": [
    "# 5-flatten()"
   ]
  },
  {
   "cell_type": "code",
   "execution_count": 29,
   "id": "81b495e1",
   "metadata": {},
   "outputs": [
    {
     "data": {
      "text/plain": [
       "array([ 1,  2,  3,  4,  5,  6,  7,  8,  9, 10, 11, 12])"
      ]
     },
     "execution_count": 29,
     "metadata": {},
     "output_type": "execute_result"
    }
   ],
   "source": [
    "arr.flatten()"
   ]
  },
  {
   "cell_type": "markdown",
   "id": "ad14e06e",
   "metadata": {},
   "source": [
    "# 6-transpose()"
   ]
  },
  {
   "cell_type": "code",
   "execution_count": 30,
   "id": "240d2f01",
   "metadata": {},
   "outputs": [
    {
     "data": {
      "text/plain": [
       "array([[ 1,  7],\n",
       "       [ 2,  8],\n",
       "       [ 3,  9],\n",
       "       [ 4, 10],\n",
       "       [ 5, 11],\n",
       "       [ 6, 12]])"
      ]
     },
     "execution_count": 30,
     "metadata": {},
     "output_type": "execute_result"
    }
   ],
   "source": [
    "arr.transpose()"
   ]
  },
  {
   "cell_type": "markdown",
   "id": "41f3765f",
   "metadata": {},
   "source": [
    "# Mathematical Operation Using Numpy\n",
    "NumPy enables efficient element-wise mathematical operations on arrays, like addition, multiplication, etc."
   ]
  },
  {
   "cell_type": "code",
   "execution_count": 31,
   "id": "22cbfe4f",
   "metadata": {},
   "outputs": [
    {
     "name": "stdout",
     "output_type": "stream",
     "text": [
      "[[1 2 3]\n",
      " [4 5 6]\n",
      " [7 8 9]]\n",
      "[[1 2 3]\n",
      " [4 5 6]\n",
      " [7 8 9]]\n"
     ]
    }
   ],
   "source": [
    "arr1 = np.arange(1,10).reshape(3,3)\n",
    "arr2 = np.arange(1,10).reshape(3,3)\n",
    "print(arr1)\n",
    "print(arr2)"
   ]
  },
  {
   "cell_type": "markdown",
   "id": "c856d7c6",
   "metadata": {},
   "source": [
    "# For Addition"
   ]
  },
  {
   "cell_type": "code",
   "execution_count": 32,
   "id": "7ee68103",
   "metadata": {},
   "outputs": [
    {
     "data": {
      "text/plain": [
       "array([[ 2,  4,  6],\n",
       "       [ 8, 10, 12],\n",
       "       [14, 16, 18]])"
      ]
     },
     "execution_count": 32,
     "metadata": {},
     "output_type": "execute_result"
    }
   ],
   "source": [
    "arr1+arr2"
   ]
  },
  {
   "cell_type": "code",
   "execution_count": 33,
   "id": "3dd68479",
   "metadata": {},
   "outputs": [
    {
     "name": "stdout",
     "output_type": "stream",
     "text": [
      "[[1 2 3]\n",
      " [4 5 6]\n",
      " [7 8 9]]\n",
      "[[1 2 3]\n",
      " [4 5 6]\n",
      " [7 8 9]]\n"
     ]
    }
   ],
   "source": [
    "arr1 = np.arange(1,10).reshape(3,3)\n",
    "arr2 = np.arange(1,10).reshape(3,3)\n",
    "print(arr1)\n",
    "print(arr2)"
   ]
  },
  {
   "cell_type": "code",
   "execution_count": 34,
   "id": "d81c0c38",
   "metadata": {},
   "outputs": [
    {
     "data": {
      "text/plain": [
       "array([[ 2,  4,  6],\n",
       "       [ 8, 10, 12],\n",
       "       [14, 16, 18]])"
      ]
     },
     "execution_count": 34,
     "metadata": {},
     "output_type": "execute_result"
    }
   ],
   "source": [
    "np.add(arr1,arr2)"
   ]
  },
  {
   "cell_type": "code",
   "execution_count": 35,
   "id": "6c0b9047",
   "metadata": {},
   "outputs": [
    {
     "data": {
      "text/plain": [
       "array([[0, 0, 0],\n",
       "       [0, 0, 0],\n",
       "       [0, 0, 0]])"
      ]
     },
     "execution_count": 35,
     "metadata": {},
     "output_type": "execute_result"
    }
   ],
   "source": [
    "arr1 - arr2"
   ]
  },
  {
   "cell_type": "code",
   "execution_count": 36,
   "id": "fbd9946a",
   "metadata": {},
   "outputs": [
    {
     "data": {
      "text/plain": [
       "array([[0, 0, 0],\n",
       "       [0, 0, 0],\n",
       "       [0, 0, 0]])"
      ]
     },
     "execution_count": 36,
     "metadata": {},
     "output_type": "execute_result"
    }
   ],
   "source": [
    "np.subtract(arr1,arr2)"
   ]
  },
  {
   "cell_type": "code",
   "execution_count": 37,
   "id": "1201a24f",
   "metadata": {},
   "outputs": [
    {
     "data": {
      "text/plain": [
       "array([[ 1,  4,  9],\n",
       "       [16, 25, 36],\n",
       "       [49, 64, 81]])"
      ]
     },
     "execution_count": 37,
     "metadata": {},
     "output_type": "execute_result"
    }
   ],
   "source": [
    "np.multiply(arr1,arr2)"
   ]
  },
  {
   "cell_type": "code",
   "execution_count": 38,
   "id": "1c58fab0",
   "metadata": {},
   "outputs": [
    {
     "data": {
      "text/plain": [
       "array([[ 1,  4,  9],\n",
       "       [16, 25, 36],\n",
       "       [49, 64, 81]])"
      ]
     },
     "execution_count": 38,
     "metadata": {},
     "output_type": "execute_result"
    }
   ],
   "source": [
    "arr1*arr2"
   ]
  },
  {
   "cell_type": "code",
   "execution_count": 39,
   "id": "73926fa1",
   "metadata": {},
   "outputs": [
    {
     "data": {
      "text/plain": [
       "array([[ 1,  4,  9],\n",
       "       [16, 25, 36],\n",
       "       [49, 64, 81]])"
      ]
     },
     "execution_count": 39,
     "metadata": {},
     "output_type": "execute_result"
    }
   ],
   "source": [
    "np.multiply(arr1,arr2)"
   ]
  },
  {
   "cell_type": "code",
   "execution_count": 40,
   "id": "1af683b6",
   "metadata": {},
   "outputs": [
    {
     "data": {
      "text/plain": [
       "array([[ 30,  36,  42],\n",
       "       [ 66,  81,  96],\n",
       "       [102, 126, 150]])"
      ]
     },
     "execution_count": 40,
     "metadata": {},
     "output_type": "execute_result"
    }
   ],
   "source": [
    "arr1 @ arr2"
   ]
  },
  {
   "cell_type": "code",
   "execution_count": 41,
   "id": "9b69b65a",
   "metadata": {},
   "outputs": [
    {
     "data": {
      "text/plain": [
       "array([[ 30,  36,  42],\n",
       "       [ 66,  81,  96],\n",
       "       [102, 126, 150]])"
      ]
     },
     "execution_count": 41,
     "metadata": {},
     "output_type": "execute_result"
    }
   ],
   "source": [
    "arr1.dot(arr2)"
   ]
  },
  {
   "cell_type": "markdown",
   "id": "a7c27f99",
   "metadata": {},
   "source": [
    "# For Checking Maximum Values of Matrix\n",
    "Use np.max(array) or array.max() to find the maximum value in an array."
   ]
  },
  {
   "cell_type": "code",
   "execution_count": 42,
   "id": "00865123",
   "metadata": {},
   "outputs": [
    {
     "name": "stdout",
     "output_type": "stream",
     "text": [
      "[[1 2 3]\n",
      " [4 5 6]\n",
      " [7 8 9]]\n",
      "[[1 2 3]\n",
      " [4 5 6]\n",
      " [7 8 9]]\n"
     ]
    }
   ],
   "source": [
    "print(arr1)\n",
    "print(arr2)"
   ]
  },
  {
   "cell_type": "code",
   "execution_count": 43,
   "id": "f4f35818",
   "metadata": {},
   "outputs": [
    {
     "data": {
      "text/plain": [
       "9"
      ]
     },
     "execution_count": 43,
     "metadata": {},
     "output_type": "execute_result"
    }
   ],
   "source": [
    "arr1.max()"
   ]
  },
  {
   "cell_type": "code",
   "execution_count": 44,
   "id": "a1fa276f",
   "metadata": {},
   "outputs": [
    {
     "data": {
      "text/plain": [
       "8"
      ]
     },
     "execution_count": 44,
     "metadata": {},
     "output_type": "execute_result"
    }
   ],
   "source": [
    "#for finding index of that array\n",
    "arr1.argmax()"
   ]
  },
  {
   "cell_type": "code",
   "execution_count": 45,
   "id": "ae851129",
   "metadata": {},
   "outputs": [
    {
     "data": {
      "text/plain": [
       "array([7, 8, 9])"
      ]
     },
     "execution_count": 45,
     "metadata": {},
     "output_type": "execute_result"
    }
   ],
   "source": [
    "#column maximum value \n",
    "arr1.max(axis = 0)"
   ]
  },
  {
   "cell_type": "code",
   "execution_count": 46,
   "id": "89c2cdfe",
   "metadata": {},
   "outputs": [
    {
     "data": {
      "text/plain": [
       "array([3, 6, 9])"
      ]
     },
     "execution_count": 46,
     "metadata": {},
     "output_type": "execute_result"
    }
   ],
   "source": [
    "#row maximum value\n",
    "arr1.max(axis = 1)"
   ]
  },
  {
   "cell_type": "markdown",
   "id": "befad5ac",
   "metadata": {},
   "source": [
    "# For Checking Minimum Values in Matrix\n",
    "Use np.min(array) or array.min() to find the minimum value in an array."
   ]
  },
  {
   "cell_type": "code",
   "execution_count": 47,
   "id": "f98967fc",
   "metadata": {},
   "outputs": [
    {
     "data": {
      "text/plain": [
       "1"
      ]
     },
     "execution_count": 47,
     "metadata": {},
     "output_type": "execute_result"
    }
   ],
   "source": [
    "arr1.min()"
   ]
  },
  {
   "cell_type": "code",
   "execution_count": 48,
   "id": "487b586b",
   "metadata": {},
   "outputs": [
    {
     "data": {
      "text/plain": [
       "8"
      ]
     },
     "execution_count": 48,
     "metadata": {},
     "output_type": "execute_result"
    }
   ],
   "source": [
    "#for index finding \n",
    "arr1.argmax()"
   ]
  },
  {
   "cell_type": "code",
   "execution_count": 49,
   "id": "8ceb4329",
   "metadata": {},
   "outputs": [
    {
     "data": {
      "text/plain": [
       "array([1, 2, 3])"
      ]
     },
     "execution_count": 49,
     "metadata": {},
     "output_type": "execute_result"
    }
   ],
   "source": [
    "arr1.min(axis = 0)"
   ]
  },
  {
   "cell_type": "code",
   "execution_count": 50,
   "id": "0bc471f0",
   "metadata": {},
   "outputs": [
    {
     "data": {
      "text/plain": [
       "array([1, 4, 7])"
      ]
     },
     "execution_count": 50,
     "metadata": {},
     "output_type": "execute_result"
    }
   ],
   "source": [
    "arr1.min(axis = 1)"
   ]
  },
  {
   "cell_type": "code",
   "execution_count": 51,
   "id": "a1196232",
   "metadata": {},
   "outputs": [
    {
     "data": {
      "text/plain": [
       "array([1, 2, 3, 4, 5, 6])"
      ]
     },
     "execution_count": 51,
     "metadata": {},
     "output_type": "execute_result"
    }
   ],
   "source": [
    "#for minimum value of column\n",
    "arr.min(axis = 0)"
   ]
  },
  {
   "cell_type": "code",
   "execution_count": 52,
   "id": "a90af6a3",
   "metadata": {},
   "outputs": [
    {
     "data": {
      "text/plain": [
       "array([1, 4, 7])"
      ]
     },
     "execution_count": 52,
     "metadata": {},
     "output_type": "execute_result"
    }
   ],
   "source": [
    "#for minimum value of row\n",
    "arr1.min(axis = 1)"
   ]
  },
  {
   "cell_type": "code",
   "execution_count": 53,
   "id": "9b250392",
   "metadata": {},
   "outputs": [
    {
     "data": {
      "text/plain": [
       "45"
      ]
     },
     "execution_count": 53,
     "metadata": {},
     "output_type": "execute_result"
    }
   ],
   "source": [
    "np.sum(arr1)"
   ]
  },
  {
   "cell_type": "code",
   "execution_count": 54,
   "id": "983e782d",
   "metadata": {},
   "outputs": [
    {
     "data": {
      "text/plain": [
       "array([12, 15, 18])"
      ]
     },
     "execution_count": 54,
     "metadata": {},
     "output_type": "execute_result"
    }
   ],
   "source": [
    "#for column sum\n",
    "np.sum(arr1, axis = 0)"
   ]
  },
  {
   "cell_type": "code",
   "execution_count": 55,
   "id": "e87978d3",
   "metadata": {},
   "outputs": [
    {
     "data": {
      "text/plain": [
       "array([12, 15, 18])"
      ]
     },
     "execution_count": 55,
     "metadata": {},
     "output_type": "execute_result"
    }
   ],
   "source": [
    "#for row sum\n",
    "np.sum(arr1, axis = 0)"
   ]
  },
  {
   "cell_type": "code",
   "execution_count": 56,
   "id": "1143f121",
   "metadata": {},
   "outputs": [
    {
     "data": {
      "text/plain": [
       "5.0"
      ]
     },
     "execution_count": 56,
     "metadata": {},
     "output_type": "execute_result"
    }
   ],
   "source": [
    "#for average of elements\n",
    "np.mean(arr1)"
   ]
  },
  {
   "cell_type": "code",
   "execution_count": 57,
   "id": "036ca6fe",
   "metadata": {},
   "outputs": [
    {
     "data": {
      "text/plain": [
       "array([[1.        , 1.41421356, 1.73205081],\n",
       "       [2.        , 2.23606798, 2.44948974],\n",
       "       [2.64575131, 2.82842712, 3.        ]])"
      ]
     },
     "execution_count": 57,
     "metadata": {},
     "output_type": "execute_result"
    }
   ],
   "source": [
    "#for square of matrix\n",
    "np.sqrt(arr1)"
   ]
  },
  {
   "cell_type": "code",
   "execution_count": 58,
   "id": "218b9b08",
   "metadata": {},
   "outputs": [
    {
     "data": {
      "text/plain": [
       "2.581988897471611"
      ]
     },
     "execution_count": 58,
     "metadata": {},
     "output_type": "execute_result"
    }
   ],
   "source": [
    "#for standard division \n",
    "np.std(arr1)"
   ]
  },
  {
   "cell_type": "code",
   "execution_count": 59,
   "id": "0c8bbcd7",
   "metadata": {},
   "outputs": [
    {
     "data": {
      "text/plain": [
       "array([[2.71828183e+00, 7.38905610e+00, 2.00855369e+01],\n",
       "       [5.45981500e+01, 1.48413159e+02, 4.03428793e+02],\n",
       "       [1.09663316e+03, 2.98095799e+03, 8.10308393e+03]])"
      ]
     },
     "execution_count": 59,
     "metadata": {},
     "output_type": "execute_result"
    }
   ],
   "source": [
    "#for exponent of element\n",
    "np.exp(arr1)"
   ]
  },
  {
   "cell_type": "code",
   "execution_count": 60,
   "id": "ca7caa9e",
   "metadata": {},
   "outputs": [
    {
     "data": {
      "text/plain": [
       "array([[0.        , 0.69314718, 1.09861229],\n",
       "       [1.38629436, 1.60943791, 1.79175947],\n",
       "       [1.94591015, 2.07944154, 2.19722458]])"
      ]
     },
     "execution_count": 60,
     "metadata": {},
     "output_type": "execute_result"
    }
   ],
   "source": [
    "#for log (natural log) of element\n",
    "np.log(arr1)"
   ]
  },
  {
   "cell_type": "code",
   "execution_count": 61,
   "id": "0bd304f6",
   "metadata": {},
   "outputs": [
    {
     "data": {
      "text/plain": [
       "array([[0.        , 0.30103   , 0.47712125],\n",
       "       [0.60205999, 0.69897   , 0.77815125],\n",
       "       [0.84509804, 0.90308999, 0.95424251]])"
      ]
     },
     "execution_count": 61,
     "metadata": {},
     "output_type": "execute_result"
    }
   ],
   "source": [
    "#for log10(base10) of element \n",
    "np.log10(arr1)"
   ]
  },
  {
   "cell_type": "markdown",
   "id": "461c1f65",
   "metadata": {},
   "source": [
    "# Array Slicing\n",
    "NumPy arrays support slicing to access subsets of data efficiently."
   ]
  },
  {
   "cell_type": "code",
   "execution_count": 62,
   "id": "8c9036f0",
   "metadata": {},
   "outputs": [
    {
     "name": "stdout",
     "output_type": "stream",
     "text": [
      "[[  1   2   3   4   5   6   7   8   9  10]\n",
      " [ 11  12  13  14  15  16  17  18  19  20]\n",
      " [ 21  22  23  24  25  26  27  28  29  30]\n",
      " [ 31  32  33  34  35  36  37  38  39  40]\n",
      " [ 41  42  43  44  45  46  47  48  49  50]\n",
      " [ 51  52  53  54  55  56  57  58  59  60]\n",
      " [ 61  62  63  64  65  66  67  68  69  70]\n",
      " [ 71  72  73  74  75  76  77  78  79  80]\n",
      " [ 81  82  83  84  85  86  87  88  89  90]\n",
      " [ 91  92  93  94  95  96  97  98  99 100]]\n"
     ]
    }
   ],
   "source": [
    "a = np.arange(1,101).reshape(10,10)\n",
    "print(a)"
   ]
  },
  {
   "cell_type": "code",
   "execution_count": 63,
   "id": "158e7958",
   "metadata": {},
   "outputs": [
    {
     "data": {
      "text/plain": [
       "1"
      ]
     },
     "execution_count": 63,
     "metadata": {},
     "output_type": "execute_result"
    }
   ],
   "source": [
    "a[0,0]"
   ]
  },
  {
   "cell_type": "code",
   "execution_count": 64,
   "id": "e8bbc61f",
   "metadata": {},
   "outputs": [
    {
     "data": {
      "text/plain": [
       "0"
      ]
     },
     "execution_count": 64,
     "metadata": {},
     "output_type": "execute_result"
    }
   ],
   "source": [
    "#checking the dimensions of array \n",
    "a[0,0].ndim\n",
    "#0 means scalar value"
   ]
  },
  {
   "cell_type": "code",
   "execution_count": 65,
   "id": "3c9e9638",
   "metadata": {},
   "outputs": [
    {
     "data": {
      "text/plain": [
       "array([ 1,  2,  3,  4,  5,  6,  7,  8,  9, 10])"
      ]
     },
     "execution_count": 65,
     "metadata": {},
     "output_type": "execute_result"
    }
   ],
   "source": [
    "#for single row and all column\n",
    "a[0]"
   ]
  },
  {
   "cell_type": "code",
   "execution_count": 66,
   "id": "7a904d77",
   "metadata": {},
   "outputs": [
    {
     "data": {
      "text/plain": [
       "array([[ 1],\n",
       "       [11],\n",
       "       [21],\n",
       "       [31],\n",
       "       [41],\n",
       "       [51],\n",
       "       [61],\n",
       "       [71],\n",
       "       [81],\n",
       "       [91]])"
      ]
     },
     "execution_count": 66,
     "metadata": {},
     "output_type": "execute_result"
    }
   ],
   "source": [
    "#for single column and all rows\n",
    "a[:, 0:1]"
   ]
  },
  {
   "cell_type": "code",
   "execution_count": 67,
   "id": "2887fa77",
   "metadata": {},
   "outputs": [
    {
     "data": {
      "text/plain": [
       "2"
      ]
     },
     "execution_count": 67,
     "metadata": {},
     "output_type": "execute_result"
    }
   ],
   "source": [
    "a[:,0:1].ndim"
   ]
  },
  {
   "cell_type": "code",
   "execution_count": 68,
   "id": "80b006e7",
   "metadata": {},
   "outputs": [
    {
     "data": {
      "text/plain": [
       "array([[12, 13, 14],\n",
       "       [22, 23, 24],\n",
       "       [32, 33, 34]])"
      ]
     },
     "execution_count": 68,
     "metadata": {},
     "output_type": "execute_result"
    }
   ],
   "source": [
    "#for specific row and column\n",
    "a[1:4, 1:4]"
   ]
  },
  {
   "cell_type": "code",
   "execution_count": 69,
   "id": "2c589960",
   "metadata": {},
   "outputs": [
    {
     "name": "stdout",
     "output_type": "stream",
     "text": [
      "[[  1   2   3   4   5   6   7   8   9  10]\n",
      " [ 11  12  13  14  15  16  17  18  19  20]\n",
      " [ 21  22  23  24  25  26  27  28  29  30]\n",
      " [ 31  32  33  34  35  36  37  38  39  40]\n",
      " [ 41  42  43  44  45  46  47  48  49  50]\n",
      " [ 51  52  53  54  55  56  57  58  59  60]\n",
      " [ 61  62  63  64  65  66  67  68  69  70]\n",
      " [ 71  72  73  74  75  76  77  78  79  80]\n",
      " [ 81  82  83  84  85  86  87  88  89  90]\n",
      " [ 91  92  93  94  95  96  97  98  99 100]]\n"
     ]
    }
   ],
   "source": [
    "print(a)"
   ]
  },
  {
   "cell_type": "code",
   "execution_count": 70,
   "id": "5afcad49",
   "metadata": {},
   "outputs": [
    {
     "data": {
      "text/plain": [
       "array([[ 2,  3],\n",
       "       [12, 13],\n",
       "       [22, 23],\n",
       "       [32, 33],\n",
       "       [42, 43],\n",
       "       [52, 53],\n",
       "       [62, 63],\n",
       "       [72, 73],\n",
       "       [82, 83],\n",
       "       [92, 93]])"
      ]
     },
     "execution_count": 70,
     "metadata": {},
     "output_type": "execute_result"
    }
   ],
   "source": [
    "#for all rows & 2,3 column\n",
    "a[:,1:3]"
   ]
  },
  {
   "cell_type": "markdown",
   "id": "03457358",
   "metadata": {},
   "source": [
    "# Full Matrix"
   ]
  },
  {
   "cell_type": "code",
   "execution_count": 71,
   "id": "b99a2e60",
   "metadata": {},
   "outputs": [
    {
     "data": {
      "text/plain": [
       "array([[  1,   2,   3,   4,   5,   6,   7,   8,   9,  10],\n",
       "       [ 11,  12,  13,  14,  15,  16,  17,  18,  19,  20],\n",
       "       [ 21,  22,  23,  24,  25,  26,  27,  28,  29,  30],\n",
       "       [ 31,  32,  33,  34,  35,  36,  37,  38,  39,  40],\n",
       "       [ 41,  42,  43,  44,  45,  46,  47,  48,  49,  50],\n",
       "       [ 51,  52,  53,  54,  55,  56,  57,  58,  59,  60],\n",
       "       [ 61,  62,  63,  64,  65,  66,  67,  68,  69,  70],\n",
       "       [ 71,  72,  73,  74,  75,  76,  77,  78,  79,  80],\n",
       "       [ 81,  82,  83,  84,  85,  86,  87,  88,  89,  90],\n",
       "       [ 91,  92,  93,  94,  95,  96,  97,  98,  99, 100]])"
      ]
     },
     "execution_count": 71,
     "metadata": {},
     "output_type": "execute_result"
    }
   ],
   "source": [
    "a[:]"
   ]
  },
  {
   "cell_type": "code",
   "execution_count": 72,
   "id": "e2913cf4",
   "metadata": {},
   "outputs": [
    {
     "data": {
      "text/plain": [
       "array([[  1,   2,   3,   4,   5,   6,   7,   8,   9,  10],\n",
       "       [ 11,  12,  13,  14,  15,  16,  17,  18,  19,  20],\n",
       "       [ 21,  22,  23,  24,  25,  26,  27,  28,  29,  30],\n",
       "       [ 31,  32,  33,  34,  35,  36,  37,  38,  39,  40],\n",
       "       [ 41,  42,  43,  44,  45,  46,  47,  48,  49,  50],\n",
       "       [ 51,  52,  53,  54,  55,  56,  57,  58,  59,  60],\n",
       "       [ 61,  62,  63,  64,  65,  66,  67,  68,  69,  70],\n",
       "       [ 71,  72,  73,  74,  75,  76,  77,  78,  79,  80],\n",
       "       [ 81,  82,  83,  84,  85,  86,  87,  88,  89,  90],\n",
       "       [ 91,  92,  93,  94,  95,  96,  97,  98,  99, 100]])"
      ]
     },
     "execution_count": 72,
     "metadata": {},
     "output_type": "execute_result"
    }
   ],
   "source": [
    "a[::]"
   ]
  },
  {
   "cell_type": "code",
   "execution_count": 73,
   "id": "9107d123",
   "metadata": {},
   "outputs": [
    {
     "data": {
      "text/plain": [
       "array([[  1,   2,   3,   4,   5,   6,   7,   8,   9,  10],\n",
       "       [ 11,  12,  13,  14,  15,  16,  17,  18,  19,  20],\n",
       "       [ 21,  22,  23,  24,  25,  26,  27,  28,  29,  30],\n",
       "       [ 31,  32,  33,  34,  35,  36,  37,  38,  39,  40],\n",
       "       [ 41,  42,  43,  44,  45,  46,  47,  48,  49,  50],\n",
       "       [ 51,  52,  53,  54,  55,  56,  57,  58,  59,  60],\n",
       "       [ 61,  62,  63,  64,  65,  66,  67,  68,  69,  70],\n",
       "       [ 71,  72,  73,  74,  75,  76,  77,  78,  79,  80],\n",
       "       [ 81,  82,  83,  84,  85,  86,  87,  88,  89,  90],\n",
       "       [ 91,  92,  93,  94,  95,  96,  97,  98,  99, 100]])"
      ]
     },
     "execution_count": 73,
     "metadata": {},
     "output_type": "execute_result"
    }
   ],
   "source": [
    "a[:,:]"
   ]
  },
  {
   "cell_type": "code",
   "execution_count": 74,
   "id": "2a9398be",
   "metadata": {},
   "outputs": [
    {
     "data": {
      "text/plain": [
       "4"
      ]
     },
     "execution_count": 74,
     "metadata": {},
     "output_type": "execute_result"
    }
   ],
   "source": [
    "#for item storage space \n",
    "a.itemsize"
   ]
  },
  {
   "cell_type": "code",
   "execution_count": 75,
   "id": "98eb95e1",
   "metadata": {},
   "outputs": [
    {
     "data": {
      "text/plain": [
       "dtype('int32')"
      ]
     },
     "execution_count": 75,
     "metadata": {},
     "output_type": "execute_result"
    }
   ],
   "source": [
    "a.dtype"
   ]
  },
  {
   "cell_type": "code",
   "execution_count": 76,
   "id": "65893d3a",
   "metadata": {},
   "outputs": [
    {
     "data": {
      "text/plain": [
       "4.0"
      ]
     },
     "execution_count": 76,
     "metadata": {},
     "output_type": "execute_result"
    }
   ],
   "source": [
    "32/8"
   ]
  },
  {
   "cell_type": "markdown",
   "id": "f6a252b7",
   "metadata": {},
   "source": [
    "# Array Conctination & Split\n",
    "NumPy provides functions like np.concatenate() and np.split() to combine or separate arrays along specified axes."
   ]
  },
  {
   "cell_type": "code",
   "execution_count": 77,
   "id": "ec66760d",
   "metadata": {},
   "outputs": [
    {
     "name": "stdout",
     "output_type": "stream",
     "text": [
      "[[ 1  2  3  4]\n",
      " [ 5  6  7  8]\n",
      " [ 9 10 11 12]\n",
      " [13 14 15 16]]\n"
     ]
    }
   ],
   "source": [
    "arr1 = np.arange(1,17).reshape(4,4)\n",
    "print(arr1)"
   ]
  },
  {
   "cell_type": "code",
   "execution_count": 78,
   "id": "ef1832a5",
   "metadata": {},
   "outputs": [
    {
     "name": "stdout",
     "output_type": "stream",
     "text": [
      "[[17 18 19 20]\n",
      " [21 22 23 24]\n",
      " [25 26 27 28]\n",
      " [29 30 31 32]]\n"
     ]
    }
   ],
   "source": [
    "arr2 = np.arange(17,33).reshape(4,4)\n",
    "print(arr2)"
   ]
  },
  {
   "cell_type": "code",
   "execution_count": 79,
   "id": "6ffbb230",
   "metadata": {},
   "outputs": [
    {
     "data": {
      "text/plain": [
       "array([[ 1,  2,  3,  4],\n",
       "       [ 5,  6,  7,  8],\n",
       "       [ 9, 10, 11, 12],\n",
       "       [13, 14, 15, 16],\n",
       "       [17, 18, 19, 20],\n",
       "       [21, 22, 23, 24],\n",
       "       [25, 26, 27, 28],\n",
       "       [29, 30, 31, 32]])"
      ]
     },
     "execution_count": 79,
     "metadata": {},
     "output_type": "execute_result"
    }
   ],
   "source": [
    "np.concatenate((arr1,arr2))"
   ]
  },
  {
   "cell_type": "code",
   "execution_count": 80,
   "id": "f67322cf",
   "metadata": {},
   "outputs": [
    {
     "data": {
      "text/plain": [
       "array([[ 1,  2,  3,  4, 17, 18, 19, 20],\n",
       "       [ 5,  6,  7,  8, 21, 22, 23, 24],\n",
       "       [ 9, 10, 11, 12, 25, 26, 27, 28],\n",
       "       [13, 14, 15, 16, 29, 30, 31, 32]])"
      ]
     },
     "execution_count": 80,
     "metadata": {},
     "output_type": "execute_result"
    }
   ],
   "source": [
    "#row concatenation\n",
    "np.concatenate((arr1,arr2),axis = 1)"
   ]
  },
  {
   "cell_type": "code",
   "execution_count": 81,
   "id": "d107d9f0",
   "metadata": {},
   "outputs": [
    {
     "data": {
      "text/plain": [
       "array([[ 1,  2,  3,  4],\n",
       "       [ 5,  6,  7,  8],\n",
       "       [ 9, 10, 11, 12],\n",
       "       [13, 14, 15, 16],\n",
       "       [17, 18, 19, 20],\n",
       "       [21, 22, 23, 24],\n",
       "       [25, 26, 27, 28],\n",
       "       [29, 30, 31, 32]])"
      ]
     },
     "execution_count": 81,
     "metadata": {},
     "output_type": "execute_result"
    }
   ],
   "source": [
    "#vertical concatenation\n",
    "np.vstack((arr1,arr2))"
   ]
  },
  {
   "cell_type": "code",
   "execution_count": 82,
   "id": "1246491f",
   "metadata": {},
   "outputs": [
    {
     "data": {
      "text/plain": [
       "array([[ 1,  2,  3,  4, 17, 18, 19, 20],\n",
       "       [ 5,  6,  7,  8, 21, 22, 23, 24],\n",
       "       [ 9, 10, 11, 12, 25, 26, 27, 28],\n",
       "       [13, 14, 15, 16, 29, 30, 31, 32]])"
      ]
     },
     "execution_count": 82,
     "metadata": {},
     "output_type": "execute_result"
    }
   ],
   "source": [
    "#horizontal concatenation\n",
    "np.hstack((arr1,arr2))"
   ]
  },
  {
   "cell_type": "markdown",
   "id": "353d7ed0",
   "metadata": {},
   "source": [
    "# Split Function\n",
    " NumPy's np.split() divides an array into sub-arrays along a specified axis."
   ]
  },
  {
   "cell_type": "code",
   "execution_count": 83,
   "id": "5cb3d725",
   "metadata": {},
   "outputs": [
    {
     "data": {
      "text/plain": [
       "[array([[1, 2, 3, 4],\n",
       "        [5, 6, 7, 8]]),\n",
       " array([[ 9, 10, 11, 12],\n",
       "        [13, 14, 15, 16]])]"
      ]
     },
     "execution_count": 83,
     "metadata": {},
     "output_type": "execute_result"
    }
   ],
   "source": [
    "np.split(arr1,2)"
   ]
  },
  {
   "cell_type": "code",
   "execution_count": 84,
   "id": "00be4d38",
   "metadata": {},
   "outputs": [
    {
     "data": {
      "text/plain": [
       "list"
      ]
     },
     "execution_count": 84,
     "metadata": {},
     "output_type": "execute_result"
    }
   ],
   "source": [
    "list1 = np.split(arr1,2)\n",
    "type(list1)"
   ]
  },
  {
   "cell_type": "code",
   "execution_count": 85,
   "id": "8f00f5f6",
   "metadata": {},
   "outputs": [
    {
     "data": {
      "text/plain": [
       "array([[1, 2, 3, 4],\n",
       "       [5, 6, 7, 8]])"
      ]
     },
     "execution_count": 85,
     "metadata": {},
     "output_type": "execute_result"
    }
   ],
   "source": [
    "list1[0]"
   ]
  },
  {
   "cell_type": "code",
   "execution_count": 86,
   "id": "a208b7ae",
   "metadata": {},
   "outputs": [
    {
     "data": {
      "text/plain": [
       "numpy.ndarray"
      ]
     },
     "execution_count": 86,
     "metadata": {},
     "output_type": "execute_result"
    }
   ],
   "source": [
    "type(list1[0])"
   ]
  },
  {
   "cell_type": "code",
   "execution_count": 87,
   "id": "4962afe3",
   "metadata": {},
   "outputs": [
    {
     "data": {
      "text/plain": [
       "[array([[ 1,  2],\n",
       "        [ 5,  6],\n",
       "        [ 9, 10],\n",
       "        [13, 14]]),\n",
       " array([[ 3,  4],\n",
       "        [ 7,  8],\n",
       "        [11, 12],\n",
       "        [15, 16]])]"
      ]
     },
     "execution_count": 87,
     "metadata": {},
     "output_type": "execute_result"
    }
   ],
   "source": [
    "#row wise concatenation\n",
    "np.split(arr1,2,axis=1)"
   ]
  },
  {
   "cell_type": "code",
   "execution_count": 88,
   "id": "153a14e3",
   "metadata": {},
   "outputs": [
    {
     "data": {
      "text/plain": [
       "[array([4]), array([6, 7]), array([8, 6, 5])]"
      ]
     },
     "execution_count": 88,
     "metadata": {},
     "output_type": "execute_result"
    }
   ],
   "source": [
    "#creating 1d array\n",
    "d1 = np.array([4,6,7,8,6,5])\n",
    "np.split(d1,[1,3])"
   ]
  },
  {
   "cell_type": "markdown",
   "id": "d7552760",
   "metadata": {},
   "source": [
    "# Trignometery Functions\n",
    "NumPy includes trigonometric functions like np.sin(), np.cos(), np.tan(), etc., which operate element-wise on arrays."
   ]
  },
  {
   "cell_type": "code",
   "execution_count": 89,
   "id": "70831588",
   "metadata": {},
   "outputs": [
    {
     "data": {
      "text/plain": [
       "-0.8011526357338304"
      ]
     },
     "execution_count": 89,
     "metadata": {},
     "output_type": "execute_result"
    }
   ],
   "source": [
    "np.sin(180)"
   ]
  },
  {
   "cell_type": "code",
   "execution_count": 90,
   "id": "9b5174a0",
   "metadata": {},
   "outputs": [
    {
     "data": {
      "text/plain": [
       "0.8939966636005579"
      ]
     },
     "execution_count": 90,
     "metadata": {},
     "output_type": "execute_result"
    }
   ],
   "source": [
    "np.sin(90)"
   ]
  },
  {
   "cell_type": "code",
   "execution_count": 91,
   "id": "914d621a",
   "metadata": {},
   "outputs": [
    {
     "data": {
      "text/plain": [
       "-0.5984600690578581"
      ]
     },
     "execution_count": 91,
     "metadata": {},
     "output_type": "execute_result"
    }
   ],
   "source": [
    "np.cos(180)"
   ]
  },
  {
   "cell_type": "code",
   "execution_count": 92,
   "id": "510ca099",
   "metadata": {},
   "outputs": [
    {
     "data": {
      "text/plain": [
       "1.3386902103511544"
      ]
     },
     "execution_count": 92,
     "metadata": {},
     "output_type": "execute_result"
    }
   ],
   "source": [
    "np.tan(180)"
   ]
  },
  {
   "cell_type": "markdown",
   "id": "eeb5f6dc",
   "metadata": {},
   "source": [
    "# Random Sampling With NumPy\n",
    "NumPy has functions to generate random numbers and samples from various distributions."
   ]
  },
  {
   "cell_type": "code",
   "execution_count": 93,
   "id": "3ecb20ea",
   "metadata": {},
   "outputs": [],
   "source": [
    "import random"
   ]
  },
  {
   "cell_type": "code",
   "execution_count": 94,
   "id": "37418a0e",
   "metadata": {},
   "outputs": [
    {
     "data": {
      "text/plain": [
       "array([0.05018561])"
      ]
     },
     "execution_count": 94,
     "metadata": {},
     "output_type": "execute_result"
    }
   ],
   "source": [
    "np.random.random(1)"
   ]
  },
  {
   "cell_type": "code",
   "execution_count": 95,
   "id": "0e07ee40",
   "metadata": {},
   "outputs": [
    {
     "data": {
      "text/plain": [
       "array([[0.70257458, 0.60626036, 0.45110688],\n",
       "       [0.28747333, 0.57940126, 0.9029497 ],\n",
       "       [0.7410242 , 0.22920277, 0.99580384]])"
      ]
     },
     "execution_count": 95,
     "metadata": {},
     "output_type": "execute_result"
    }
   ],
   "source": [
    "np.random.random((3,3))"
   ]
  },
  {
   "cell_type": "code",
   "execution_count": 96,
   "id": "f5efe330",
   "metadata": {},
   "outputs": [],
   "source": [
    "#random.random function is used when we required values from 0 to 1"
   ]
  },
  {
   "cell_type": "code",
   "execution_count": 97,
   "id": "dfa36460",
   "metadata": {},
   "outputs": [
    {
     "data": {
      "text/plain": [
       "3"
      ]
     },
     "execution_count": 97,
     "metadata": {},
     "output_type": "execute_result"
    }
   ],
   "source": [
    "#for integer type values\n",
    "np.random.randint(1,4)"
   ]
  },
  {
   "cell_type": "code",
   "execution_count": 98,
   "id": "2bf7f2d6",
   "metadata": {},
   "outputs": [
    {
     "data": {
      "text/plain": [
       "array([[3, 3, 3, 1],\n",
       "       [1, 2, 2, 3],\n",
       "       [3, 2, 3, 3],\n",
       "       [3, 1, 2, 2]])"
      ]
     },
     "execution_count": 98,
     "metadata": {},
     "output_type": "execute_result"
    }
   ],
   "source": [
    "np.random.randint(1,4,(4,4))"
   ]
  },
  {
   "cell_type": "code",
   "execution_count": 99,
   "id": "9a407439",
   "metadata": {},
   "outputs": [
    {
     "data": {
      "text/plain": [
       "array([[[2, 1, 1, 1],\n",
       "        [3, 1, 1, 3],\n",
       "        [3, 2, 1, 2],\n",
       "        [3, 1, 3, 2]],\n",
       "\n",
       "       [[3, 1, 3, 3],\n",
       "        [1, 1, 3, 3],\n",
       "        [3, 3, 1, 3],\n",
       "        [2, 1, 3, 1]]])"
      ]
     },
     "execution_count": 99,
     "metadata": {},
     "output_type": "execute_result"
    }
   ],
   "source": [
    "np.random.randint(1,4,(2,4,4))"
   ]
  },
  {
   "cell_type": "code",
   "execution_count": 100,
   "id": "c3642456",
   "metadata": {},
   "outputs": [
    {
     "data": {
      "text/plain": [
       "array([[[2, 2, 1, 1],\n",
       "        [2, 1, 2, 2],\n",
       "        [1, 2, 2, 3],\n",
       "        [1, 2, 1, 3]],\n",
       "\n",
       "       [[1, 3, 1, 1],\n",
       "        [1, 3, 1, 3],\n",
       "        [3, 2, 1, 1],\n",
       "        [3, 2, 3, 2]]])"
      ]
     },
     "execution_count": 100,
     "metadata": {},
     "output_type": "execute_result"
    }
   ],
   "source": [
    "#for same values using random we use seed function\n",
    "np.random.seed(10)\n",
    "np.random.randint(1,4,(2,4,4))"
   ]
  },
  {
   "cell_type": "code",
   "execution_count": 101,
   "id": "0f84c1ad",
   "metadata": {},
   "outputs": [
    {
     "data": {
      "text/plain": [
       "array([0.13145815, 0.41366737, 0.77872881])"
      ]
     },
     "execution_count": 101,
     "metadata": {},
     "output_type": "execute_result"
    }
   ],
   "source": [
    "np.random.rand(3)"
   ]
  },
  {
   "cell_type": "code",
   "execution_count": 102,
   "id": "b3226f5c",
   "metadata": {},
   "outputs": [
    {
     "data": {
      "text/plain": [
       "array([[0.58390137, 0.18263144, 0.82608225],\n",
       "       [0.10540183, 0.28357668, 0.06556327],\n",
       "       [0.05644419, 0.76545582, 0.01178803]])"
      ]
     },
     "execution_count": 102,
     "metadata": {},
     "output_type": "execute_result"
    }
   ],
   "source": [
    "np.random.rand(3,3)"
   ]
  },
  {
   "cell_type": "code",
   "execution_count": 103,
   "id": "867174db",
   "metadata": {},
   "outputs": [
    {
     "data": {
      "text/plain": [
       "4"
      ]
     },
     "execution_count": 103,
     "metadata": {},
     "output_type": "execute_result"
    }
   ],
   "source": [
    "x = [1,2,3,4]\n",
    "np.random.choice(x)"
   ]
  },
  {
   "cell_type": "code",
   "execution_count": 104,
   "id": "6cb791e8",
   "metadata": {},
   "outputs": [
    {
     "name": "stdout",
     "output_type": "stream",
     "text": [
      "1\n",
      "3\n",
      "1\n",
      "2\n",
      "4\n",
      "3\n",
      "1\n",
      "3\n",
      "4\n",
      "1\n",
      "4\n",
      "2\n",
      "3\n",
      "4\n",
      "4\n",
      "1\n",
      "2\n",
      "1\n",
      "3\n",
      "1\n"
     ]
    }
   ],
   "source": [
    "for i in range(20):\n",
    "    print(np.random.choice(x))"
   ]
  },
  {
   "cell_type": "code",
   "execution_count": 105,
   "id": "1476f358",
   "metadata": {},
   "outputs": [
    {
     "data": {
      "text/plain": [
       "array([3, 2, 4, 1])"
      ]
     },
     "execution_count": 105,
     "metadata": {},
     "output_type": "execute_result"
    }
   ],
   "source": [
    "#permutation function\n",
    "np.random.permutation(x)"
   ]
  },
  {
   "cell_type": "markdown",
   "id": "1d036a9d",
   "metadata": {},
   "source": [
    "# String Operations, Comparsion and information\n",
    "NumPy provides functions to work with string arrays, perform comparison operations, and retrieve information about arrays."
   ]
  },
  {
   "cell_type": "code",
   "execution_count": 106,
   "id": "b3a7c8f3",
   "metadata": {},
   "outputs": [
    {
     "data": {
      "text/plain": [
       "array('Hello OneHello two', dtype='<U18')"
      ]
     },
     "execution_count": 106,
     "metadata": {},
     "output_type": "execute_result"
    }
   ],
   "source": [
    "#generate two strings\n",
    "a = \"Hello One\"\n",
    "str1 = \"Hello two\"\n",
    "np.char.add(a,str1)"
   ]
  },
  {
   "cell_type": "code",
   "execution_count": 107,
   "id": "83102c0b",
   "metadata": {},
   "outputs": [
    {
     "data": {
      "text/plain": [
       "array('hello one', dtype='<U9')"
      ]
     },
     "execution_count": 107,
     "metadata": {},
     "output_type": "execute_result"
    }
   ],
   "source": [
    "#conversion of string in lower case\n",
    "np.char.lower(a)"
   ]
  },
  {
   "cell_type": "code",
   "execution_count": 108,
   "id": "816d2870",
   "metadata": {},
   "outputs": [
    {
     "data": {
      "text/plain": [
       "array('HELLO TWO', dtype='<U9')"
      ]
     },
     "execution_count": 108,
     "metadata": {},
     "output_type": "execute_result"
    }
   ],
   "source": [
    "#for upper case\n",
    "np.char.upper(str1)"
   ]
  },
  {
   "cell_type": "code",
   "execution_count": 109,
   "id": "682f61c5",
   "metadata": {},
   "outputs": [
    {
     "data": {
      "text/plain": [
       "array('                         Hello two                          ',\n",
       "      dtype='<U60')"
      ]
     },
     "execution_count": 109,
     "metadata": {},
     "output_type": "execute_result"
    }
   ],
   "source": [
    "#center method\n",
    "np.char.center(str1,60)"
   ]
  },
  {
   "cell_type": "code",
   "execution_count": 110,
   "id": "0bc8642a",
   "metadata": {},
   "outputs": [
    {
     "data": {
      "text/plain": [
       "array('*************************Hello two**************************',\n",
       "      dtype='<U60')"
      ]
     },
     "execution_count": 110,
     "metadata": {},
     "output_type": "execute_result"
    }
   ],
   "source": [
    "np.char.center(str1, 60, fillchar=\"*\")"
   ]
  },
  {
   "cell_type": "markdown",
   "id": "97e974b5",
   "metadata": {},
   "source": [
    "# Split Function\n",
    "This is likely related to splitting string arrays into substrings using NumPy's np.char.split()."
   ]
  },
  {
   "cell_type": "code",
   "execution_count": 111,
   "id": "eb8f6ea8",
   "metadata": {},
   "outputs": [
    {
     "data": {
      "text/plain": [
       "array(list(['Hello', 'One']), dtype=object)"
      ]
     },
     "execution_count": 111,
     "metadata": {},
     "output_type": "execute_result"
    }
   ],
   "source": [
    "np.char.split(a)"
   ]
  },
  {
   "cell_type": "code",
   "execution_count": 112,
   "id": "c1614186",
   "metadata": {},
   "outputs": [
    {
     "data": {
      "text/plain": [
       "array(list(['Hello', 'pk']), dtype=object)"
      ]
     },
     "execution_count": 112,
     "metadata": {},
     "output_type": "execute_result"
    }
   ],
   "source": [
    "np.char.splitlines(\"Hello\\npk\")"
   ]
  },
  {
   "cell_type": "code",
   "execution_count": 113,
   "id": "96428734",
   "metadata": {},
   "outputs": [
    {
     "data": {
      "text/plain": [
       "array(['d:m:y', 'd/m/y'], dtype='<U5')"
      ]
     },
     "execution_count": 113,
     "metadata": {},
     "output_type": "execute_result"
    }
   ],
   "source": [
    "str4 =\"dmy\"\n",
    "str5 = \"dmy\"\n",
    "#join method\n",
    "np.char.join([\":\",\"/\"],[str4,str5])"
   ]
  },
  {
   "cell_type": "code",
   "execution_count": 114,
   "id": "6036752e",
   "metadata": {},
   "outputs": [
    {
     "data": {
      "text/plain": [
       "array(True)"
      ]
     },
     "execution_count": 114,
     "metadata": {},
     "output_type": "execute_result"
    }
   ],
   "source": [
    "#compersion of string\n",
    "np.char.equal(str4,str5)"
   ]
  },
  {
   "cell_type": "code",
   "execution_count": 115,
   "id": "98248b48",
   "metadata": {},
   "outputs": [
    {
     "data": {
      "text/plain": [
       "array(0)"
      ]
     },
     "execution_count": 115,
     "metadata": {},
     "output_type": "execute_result"
    }
   ],
   "source": [
    "#count method \n",
    "np.char.count(a,\"a\")"
   ]
  },
  {
   "cell_type": "code",
   "execution_count": 116,
   "id": "26088e36",
   "metadata": {},
   "outputs": [
    {
     "data": {
      "text/plain": [
       "array(2)"
      ]
     },
     "execution_count": 116,
     "metadata": {},
     "output_type": "execute_result"
    }
   ],
   "source": [
    "np.char.count(a,\"l\")"
   ]
  },
  {
   "cell_type": "code",
   "execution_count": 117,
   "id": "9b12a203",
   "metadata": {},
   "outputs": [
    {
     "data": {
      "text/plain": [
       "array(-1)"
      ]
     },
     "execution_count": 117,
     "metadata": {},
     "output_type": "execute_result"
    }
   ],
   "source": [
    "#particular string is present or not\n",
    "np.char.find(a,\"Ai\")"
   ]
  },
  {
   "cell_type": "code",
   "execution_count": 118,
   "id": "98434cc2",
   "metadata": {},
   "outputs": [
    {
     "data": {
      "text/plain": [
       "array(4)"
      ]
     },
     "execution_count": 118,
     "metadata": {},
     "output_type": "execute_result"
    }
   ],
   "source": [
    "np.char.find(a,\"o\")"
   ]
  },
  {
   "cell_type": "code",
   "execution_count": 119,
   "id": "3dfe037a",
   "metadata": {},
   "outputs": [
    {
     "data": {
      "text/plain": [
       "array(-1)"
      ]
     },
     "execution_count": 119,
     "metadata": {},
     "output_type": "execute_result"
    }
   ],
   "source": [
    "np.char.find(a,\"Ai\")"
   ]
  },
  {
   "cell_type": "code",
   "execution_count": null,
   "id": "e3f2fb2c",
   "metadata": {},
   "outputs": [],
   "source": []
  }
 ],
 "metadata": {
  "kernelspec": {
   "display_name": "Python 3 (ipykernel)",
   "language": "python",
   "name": "python3"
  },
  "language_info": {
   "codemirror_mode": {
    "name": "ipython",
    "version": 3
   },
   "file_extension": ".py",
   "mimetype": "text/x-python",
   "name": "python",
   "nbconvert_exporter": "python",
   "pygments_lexer": "ipython3",
   "version": "3.9.7"
  }
 },
 "nbformat": 4,
 "nbformat_minor": 5
}
